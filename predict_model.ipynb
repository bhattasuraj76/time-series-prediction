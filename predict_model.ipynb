{
 "cells": [
  {
   "cell_type": "code",
   "execution_count": 3,
   "metadata": {},
   "outputs": [],
   "source": [
    "# Import necessary libraries\n",
    "import pandas as pd\n",
    "import numpy as np\n",
    "import matplotlib.pyplot as plt\n",
    "import seaborn as sns\n",
    "from sklearn.preprocessing import LabelEncoder, StandardScaler\n",
    "from sklearn.metrics import mean_squared_error, mean_absolute_error\n",
    "import statsmodels.api as sm\n",
    "\n",
    "from sklearn.model_selection import train_test_split\n",
    "from sklearn.preprocessing import StandardScaler, LabelEncoder\n",
    "import pickle\n",
    "from math import sqrt\n",
    "import joblib\n",
    "\n",
    "from keras.models import Sequential\n",
    "from keras.layers import Dense, LSTM\n",
    "from keras.optimizers.legacy import Adam"
   ]
  },
  {
   "cell_type": "code",
   "execution_count": 2,
   "metadata": {},
   "outputs": [
    {
     "name": "stdout",
     "output_type": "stream",
     "text": [
      "  InvoiceNo StockCode                          Description  Quantity  \\\n",
      "0    536365    85123A   WHITE HANGING HEART T-LIGHT HOLDER         6   \n",
      "1    536365     71053                  WHITE METAL LANTERN         6   \n",
      "2    536365    84406B       CREAM CUPID HEARTS COAT HANGER         8   \n",
      "3    536365    84029G  KNITTED UNION FLAG HOT WATER BOTTLE         6   \n",
      "4    536365    84029E       RED WOOLLY HOTTIE WHITE HEART.         6   \n",
      "\n",
      "          InvoiceDate  UnitPrice  CustomerID         Country  \n",
      "0 2010-12-01 08:26:00       2.55     17850.0  United Kingdom  \n",
      "1 2010-12-01 08:26:00       3.39     17850.0  United Kingdom  \n",
      "2 2010-12-01 08:26:00       2.75     17850.0  United Kingdom  \n",
      "3 2010-12-01 08:26:00       3.39     17850.0  United Kingdom  \n",
      "4 2010-12-01 08:26:00       3.39     17850.0  United Kingdom  \n"
     ]
    }
   ],
   "source": [
    "# Load the dataset \n",
    "data1 = pd.read_excel('Data.xlsx')\n",
    "data2 = data1.copy()\n",
    "\n",
    "# Check first few rows of dataset\n",
    "print(data1.head())"
   ]
  },
  {
   "cell_type": "code",
   "execution_count": 4,
   "metadata": {},
   "outputs": [
    {
     "name": "stdout",
     "output_type": "stream",
     "text": [
      "InvoiceNo              object\n",
      "StockCode              object\n",
      "Description            object\n",
      "Quantity                int64\n",
      "InvoiceDate    datetime64[ns]\n",
      "UnitPrice             float64\n",
      "CustomerID            float64\n",
      "Country                object\n",
      "dtype: object\n",
      "----\n",
      "InvoiceNo           0\n",
      "StockCode           0\n",
      "Description      1454\n",
      "Quantity            0\n",
      "InvoiceDate         0\n",
      "UnitPrice           0\n",
      "CustomerID     135080\n",
      "Country             0\n",
      "dtype: int64\n",
      "----\n",
      "            Quantity                    InvoiceDate      UnitPrice  \\\n",
      "count  541909.000000                         541909  541909.000000   \n",
      "mean        9.552250  2011-07-04 13:34:57.156386048       4.611114   \n",
      "min    -80995.000000            2010-12-01 08:26:00  -11062.060000   \n",
      "25%         1.000000            2011-03-28 11:34:00       1.250000   \n",
      "50%         3.000000            2011-07-19 17:17:00       2.080000   \n",
      "75%        10.000000            2011-10-19 11:27:00       4.130000   \n",
      "max     80995.000000            2011-12-09 12:50:00   38970.000000   \n",
      "std       218.081158                            NaN      96.759853   \n",
      "\n",
      "          CustomerID  \n",
      "count  406829.000000  \n",
      "mean    15287.690570  \n",
      "min     12346.000000  \n",
      "25%     13953.000000  \n",
      "50%     15152.000000  \n",
      "75%     16791.000000  \n",
      "max     18287.000000  \n",
      "std      1713.600303  \n",
      "----\n",
      "       StockCode         Country                         Description  \\\n",
      "count     541909          541909                              540455   \n",
      "unique      4070              38                                4223   \n",
      "top       85123A  United Kingdom  WHITE HANGING HEART T-LIGHT HOLDER   \n",
      "freq        2313          495478                                2369   \n",
      "\n",
      "        InvoiceNo  \n",
      "count      541909  \n",
      "unique      25900  \n",
      "top        573585  \n",
      "freq         1114  \n"
     ]
    }
   ],
   "source": [
    "print(data1.dtypes)\n",
    "print('----')\n",
    "print(data1.isna().sum())\n",
    "print('----')\n",
    "print(data1.describe())\n",
    "print('----')\n",
    "print(data1[['StockCode', 'Country', 'Description', 'InvoiceNo']].describe())"
   ]
  },
  {
   "cell_type": "code",
   "execution_count": 12,
   "metadata": {},
   "outputs": [
    {
     "name": "stdout",
     "output_type": "stream",
     "text": [
      "InvoiceNo              object\n",
      "StockCode              object\n",
      "Description            object\n",
      "Quantity                int64\n",
      "InvoiceDate    datetime64[ns]\n",
      "UnitPrice             float64\n",
      "CustomerID            float64\n",
      "Country                object\n",
      "dtype: object\n"
     ]
    }
   ],
   "source": [
    "def parse_dtypes(x):\n",
    "    x['InvoiceDate']=pd.to_datetime(x['InvoiceDate'])\n",
    "    x['StockCode'] = x['StockCode'].astype(str)\n",
    "    x['InvoiceNo'] = x['InvoiceNo'].astype(str)\n",
    "    return x\n",
    "data1 = parse_dtypes(data1)\n",
    "print(data1.dtypes)"
   ]
  },
  {
   "cell_type": "code",
   "execution_count": 6,
   "metadata": {},
   "outputs": [
    {
     "data": {
      "text/plain": [
       "Text(0.5, 1.0, 'Distribution of Sales Quantity')"
      ]
     },
     "execution_count": 6,
     "metadata": {},
     "output_type": "execute_result"
    },
    {
     "data": {
      "image/png": "[encoded data removed]",
      "text/plain": [
       "<Figure size 640x480 with 1 Axes>"
      ]
     },
     "metadata": {},
     "output_type": "display_data"
    }
   ],
   "source": [
    "# Visualize data distributions\n",
    "\n",
    "# Histogram of sales quantity\n",
    "sns.histplot(data1['Quantity'], bins=20, kde=True)\n",
    "plt.title('Distribution of Sales Quantity')"
   ]
  },
  {
   "cell_type": "code",
   "execution_count": 7,
   "metadata": {},
   "outputs": [
    {
     "data": {
      "text/plain": [
       "Text(0, 0.5, 'Sales Quantity')"
      ]
     },
     "execution_count": 7,
     "metadata": {},
     "output_type": "execute_result"
    },
    {
     "data": {
      "image/png": "[encoded data removed]",
      "text/plain": [
       "<Figure size 640x480 with 1 Axes>"
      ]
     },
     "metadata": {},
     "output_type": "display_data"
    }
   ],
   "source": [
    "# Time series plot of all product sales\n",
    "df = data1.copy()\n",
    "df.set_index('InvoiceDate', inplace=True)\n",
    "daily_sales = df.resample('D')['Quantity'].sum()\n",
    "plt.plot(daily_sales.index, daily_sales.values)\n",
    "plt.title('Daily Sales Time Series')\n",
    "plt.xlabel('Date')\n",
    "plt.ylabel('Sales Quantity')"
   ]
  },
  {
   "cell_type": "code",
   "execution_count": 8,
   "metadata": {},
   "outputs": [
    {
     "data": {
      "text/plain": [
       "Text(0, 0.5, 'Sales Quantity of product 85123A')"
      ]
     },
     "execution_count": 8,
     "metadata": {},
     "output_type": "execute_result"
    },
    {
     "data": {
      "image/png": "[encoded data removed]",
      "text/plain": [
       "<Figure size 640x480 with 1 Axes>"
      ]
     },
     "metadata": {},
     "output_type": "display_data"
    }
   ],
   "source": [
    "# Time series plot of a product sales\n",
    "stock_code = \"85123A\"\n",
    "df = data1.copy()\n",
    "df.set_index('InvoiceDate', inplace=True)\n",
    "df = df[df['StockCode']==stock_code]\n",
    "daily_sales = df.resample('D')['Quantity'].sum()\n",
    "plt.plot(daily_sales.index, daily_sales.values)\n",
    "plt.title('Daily Sales Time Series')\n",
    "plt.xlabel('Date')\n",
    "plt.ylabel(f'Sales Quantity of product {stock_code}')"
   ]
  },
  {
   "cell_type": "code",
   "execution_count": 9,
   "metadata": {},
   "outputs": [
    {
     "name": "stdout",
     "output_type": "stream",
     "text": [
      "InvoiceNo\n",
      "False    532621\n",
      "True       9288\n",
      "Name: count, dtype: int64\n",
      "-------------\n",
      "0         False\n",
      "1         False\n",
      "2         False\n",
      "3         False\n",
      "4         False\n",
      "          ...  \n",
      "541904    False\n",
      "541905    False\n",
      "541906    False\n",
      "541907    False\n",
      "541908    False\n",
      "Name: InvoiceNo, Length: 541909, dtype: bool\n",
      "--------------\n",
      "(532621, 8)\n",
      "--------------\n",
      "(531285, 8)\n"
     ]
    }
   ],
   "source": [
    "def filter_data(x):\n",
    "    # # Filter the DataFrame\n",
    "    # filtered_df = data1[~data1['InvoiceNo'].str.startswith('c', 'C')]\n",
    "    # filtered_df\n",
    "    # Create mask to filter out records with InvoiceNo starting with c\n",
    "    mask = x['InvoiceNo'].str.startswith(('c', 'C'))\n",
    "    print(mask.value_counts())\n",
    "    print('-------------')\n",
    "    mask=mask.replace(np.nan, False, regex=True)\n",
    "    print(mask)\n",
    "    print('--------------')\n",
    "    y = x[~mask]\n",
    "    print(y.shape)\n",
    "    print('--------------')\n",
    "    # Keep rows with quantity greater than zero\n",
    "    mask = y['Quantity'] >0\n",
    "    y =y[mask]\n",
    "    print(y.shape)\n",
    "    return y\n",
    "filtered_data = filter_data(data1)"
   ]
  },
  {
   "cell_type": "code",
   "execution_count": 10,
   "metadata": {},
   "outputs": [
    {
     "name": "stdout",
     "output_type": "stream",
     "text": [
      "           StockCode InvoiceDate  Quantity  Quantity_diff\n",
      "0              10002  2010-12-02         1          -59.0\n",
      "1              10002  2010-12-03         8            7.0\n",
      "2              10002  2010-12-05         1           -7.0\n",
      "3              10002  2010-12-06        25           24.0\n",
      "4              10002  2010-12-07         8          -17.0\n",
      "...              ...         ...       ...            ...\n",
      "272897  gift_0001_40  2011-04-04         1            0.0\n",
      "272898  gift_0001_40  2011-07-27         1            0.0\n",
      "272899  gift_0001_50  2011-05-06         1            0.0\n",
      "272900  gift_0001_50  2011-06-24         1            0.0\n",
      "272901  gift_0001_50  2011-06-30         1            0.0\n",
      "\n",
      "[272902 rows x 4 columns]\n"
     ]
    }
   ],
   "source": [
    "def groupby_singledate(x):\n",
    "    agg_df = x.copy()\n",
    "    # agg_df_test = filtered_data.groupby([ filtered_data['InvoiceDate'].dt.date, 'StockCode'])['Quantity'].sum()\n",
    "    # print(agg_df_test)\n",
    "    agg_df = x.groupby(['StockCode', x['InvoiceDate'].dt.date])['Quantity'].sum().reset_index()\n",
    "    \n",
    "    # Function to apply differencing for each product code\n",
    "    def difference_by_product(df):\n",
    "        df['Quantity_diff'] = df['Quantity'].diff()\n",
    "        return df\n",
    "\n",
    "    # Sort the DataFrame by 'ProductCode' and 'Date'\n",
    "    agg_df.sort_values(by=['StockCode', 'InvoiceDate'], inplace=True)\n",
    "    \n",
    "    # Apply differencing separately for each product code\n",
    "    agg_df = agg_df.groupby('StockCode').apply(difference_by_product)\n",
    "\n",
    "    # Drop NaN values created by differencing\n",
    "    agg_df.dropna(inplace=True)\n",
    "    agg_df.reset_index(inplace=True, drop=True)\n",
    "    return  agg_df\n",
    "agg_df = groupby_singledate(filtered_data)\n",
    "print(agg_df)"
   ]
  },
  {
   "cell_type": "code",
   "execution_count": 15,
   "metadata": {},
   "outputs": [
    {
     "name": "stdout",
     "output_type": "stream",
     "text": [
      "           StockCode InvoiceDate  Quantity  Quantity_diff  Year  Month  Day  \\\n",
      "0              10002  2010-12-02         1          -59.0  2010     12    2   \n",
      "1              10002  2010-12-03         8            7.0  2010     12    3   \n",
      "2              10002  2010-12-05         1           -7.0  2010     12    5   \n",
      "3              10002  2010-12-06        25           24.0  2010     12    6   \n",
      "4              10002  2010-12-07         8          -17.0  2010     12    7   \n",
      "...              ...         ...       ...            ...   ...    ...  ...   \n",
      "272897  gift_0001_40  2011-04-04         1            0.0  2011      4    4   \n",
      "272898  gift_0001_40  2011-07-27         1            0.0  2011      7   27   \n",
      "272899  gift_0001_50  2011-05-06         1            0.0  2011      5    6   \n",
      "272900  gift_0001_50  2011-06-24         1            0.0  2011      6   24   \n",
      "272901  gift_0001_50  2011-06-30         1            0.0  2011      6   30   \n",
      "\n",
      "        Dayofweek  \n",
      "0               3  \n",
      "1               4  \n",
      "2               6  \n",
      "3               0  \n",
      "4               1  \n",
      "...           ...  \n",
      "272897          0  \n",
      "272898          2  \n",
      "272899          4  \n",
      "272900          4  \n",
      "272901          3  \n",
      "\n",
      "[272902 rows x 8 columns]\n"
     ]
    }
   ],
   "source": [
    "def extract_date_features(x):\n",
    "    x['InvoiceDate']=pd.to_datetime(x['InvoiceDate'])\n",
    "    x['Year'] = x['InvoiceDate'].dt.year\n",
    "    x['Month'] = x['InvoiceDate'].dt.month\n",
    "    x['Day'] = x['InvoiceDate'].dt.day\n",
    "    x['Dayofweek']=x['InvoiceDate'].dt.dayofweek\n",
    "    return x\n",
    "new_agg_df = extract_date_features(agg_df)\n",
    "print(new_agg_df)\n"
   ]
  },
  {
   "cell_type": "code",
   "execution_count": 16,
   "metadata": {},
   "outputs": [
    {
     "name": "stdout",
     "output_type": "stream",
     "text": [
      "           StockCode InvoiceDate  Quantity  Quantity_diff  Year  Month  Day  \\\n",
      "0              10002  2010-12-02         1          -59.0  2010     12    2   \n",
      "1              10002  2010-12-03         8            7.0  2010     12    3   \n",
      "2              10002  2010-12-05         1           -7.0  2010     12    5   \n",
      "3              10002  2010-12-06        25           24.0  2010     12    6   \n",
      "4              10002  2010-12-07         8          -17.0  2010     12    7   \n",
      "...              ...         ...       ...            ...   ...    ...  ...   \n",
      "272897  gift_0001_40  2011-04-04         1            0.0  2011      4    4   \n",
      "272898  gift_0001_40  2011-07-27         1            0.0  2011      7   27   \n",
      "272899  gift_0001_50  2011-05-06         1            0.0  2011      5    6   \n",
      "272900  gift_0001_50  2011-06-24         1            0.0  2011      6   24   \n",
      "272901  gift_0001_50  2011-06-30         1            0.0  2011      6   30   \n",
      "\n",
      "        Dayofweek  Year_normalized  Month_normalized  Day_normalized  \\\n",
      "0               3        -3.826105          1.382291       -1.532830   \n",
      "1               4        -3.826105          1.382291       -1.416681   \n",
      "2               6        -3.826105          1.382291       -1.184385   \n",
      "3               0        -3.826105          1.382291       -1.068236   \n",
      "4               1        -3.826105          1.382291       -0.952088   \n",
      "...           ...              ...               ...             ...   \n",
      "272897          0         0.261362         -0.899191       -1.300533   \n",
      "272898          2         0.261362         -0.043635        1.370880   \n",
      "272899          4         0.261362         -0.614006       -1.068236   \n",
      "272900          4         0.261362         -0.328821        1.022435   \n",
      "272901          3         0.261362         -0.328821        1.719326   \n",
      "\n",
      "        Quantity_normalized  \n",
      "0                 -0.289263  \n",
      "1                 -0.182103  \n",
      "2                 -0.289263  \n",
      "3                  0.078143  \n",
      "4                 -0.182103  \n",
      "...                     ...  \n",
      "272897            -0.289263  \n",
      "272898            -0.289263  \n",
      "272899            -0.289263  \n",
      "272900            -0.289263  \n",
      "272901            -0.289263  \n",
      "\n",
      "[272902 rows x 12 columns]\n"
     ]
    }
   ],
   "source": [
    "def standarize_features(x):\n",
    "    # Create a copy of the DataFrame to avoid modifying the original\n",
    "    x_std = x.copy()\n",
    "    \n",
    "    # Initialize the StandardScaler\n",
    "    scaler = StandardScaler()\n",
    "\n",
    "    # Standardize 'Year', 'Month', and 'Day'\n",
    "    x_std[['Year_normalized', 'Month_normalized', 'Day_normalized']] = scaler.fit_transform(x[['Year', 'Month', 'Day']])\n",
    "\n",
    "    return x_std\n",
    "\n",
    "# Apply the function to your DataFrame\n",
    "new_agg_df2 = standarize_features(new_agg_df)\n",
    "\n",
    "# Standardize 'Quantity' separately\n",
    "scaler_quantity = StandardScaler()\n",
    "new_agg_df2['Quantity_normalized'] = scaler_quantity.fit_transform(new_agg_df2[['Quantity']])\n",
    "    \n",
    "print(new_agg_df2)"
   ]
  },
  {
   "cell_type": "code",
   "execution_count": 18,
   "metadata": {},
   "outputs": [
    {
     "name": "stdout",
     "output_type": "stream",
     "text": [
      "           StockCode InvoiceDate  Quantity  Quantity_diff  Year  Month  Day  \\\n",
      "0              10002  2010-12-02         1          -59.0  2010     12    2   \n",
      "1              10002  2010-12-03         8            7.0  2010     12    3   \n",
      "2              10002  2010-12-05         1           -7.0  2010     12    5   \n",
      "3              10002  2010-12-06        25           24.0  2010     12    6   \n",
      "4              10002  2010-12-07         8          -17.0  2010     12    7   \n",
      "...              ...         ...       ...            ...   ...    ...  ...   \n",
      "272897  gift_0001_40  2011-04-04         1            0.0  2011      4    4   \n",
      "272898  gift_0001_40  2011-07-27         1            0.0  2011      7   27   \n",
      "272899  gift_0001_50  2011-05-06         1            0.0  2011      5    6   \n",
      "272900  gift_0001_50  2011-06-24         1            0.0  2011      6   24   \n",
      "272901  gift_0001_50  2011-06-30         1            0.0  2011      6   30   \n",
      "\n",
      "        Dayofweek  Year_normalized  Month_normalized  Day_normalized  \\\n",
      "0               3        -3.826105          1.382291       -1.532830   \n",
      "1               4        -3.826105          1.382291       -1.416681   \n",
      "2               6        -3.826105          1.382291       -1.184385   \n",
      "3               0        -3.826105          1.382291       -1.068236   \n",
      "4               1        -3.826105          1.382291       -0.952088   \n",
      "...           ...              ...               ...             ...   \n",
      "272897          0         0.261362         -0.899191       -1.300533   \n",
      "272898          2         0.261362         -0.043635        1.370880   \n",
      "272899          4         0.261362         -0.614006       -1.068236   \n",
      "272900          4         0.261362         -0.328821        1.022435   \n",
      "272901          3         0.261362         -0.328821        1.719326   \n",
      "\n",
      "        Quantity_normalized   DailyAvg  MonthlyAvg  \n",
      "0                 -0.289263  22.125000   14.692308  \n",
      "1                 -0.182103  27.400000   14.692308  \n",
      "2                 -0.289263   5.000000   14.692308  \n",
      "3                  0.078143  21.777778   14.692308  \n",
      "4                 -0.182103  10.000000   14.692308  \n",
      "...                     ...        ...         ...  \n",
      "272897            -0.289263   1.000000    1.000000  \n",
      "272898            -0.289263   1.000000    1.000000  \n",
      "272899            -0.289263   1.000000    1.000000  \n",
      "272900            -0.289263   1.000000    1.000000  \n",
      "272901            -0.289263   1.000000    1.000000  \n",
      "\n",
      "[272902 rows x 14 columns]\n"
     ]
    }
   ],
   "source": [
    "def add_avg(x):\n",
    "    \n",
    "    # Function to add daily and monthly avg\n",
    "    def add_daily_monthly_avg(x):\n",
    "        x['DailyAvg'] = x.groupby(['Dayofweek'])['Quantity'].transform('mean')\n",
    "        x['MonthlyAvg'] = x.groupby(['Month'])['Quantity'].transform('mean')\n",
    "        return x\n",
    "\n",
    "    # Sort the DataFrame by 'ProductCode' and 'Date'\n",
    "    x.sort_values(by=['StockCode', 'InvoiceDate'], inplace=True)\n",
    "    \n",
    "    # Apply avg separately for each product code\n",
    "    x = x.groupby('StockCode').apply(add_daily_monthly_avg)\n",
    "    x.reset_index(inplace=True, drop=True)\n",
    "    \n",
    "    return x\n",
    "\n",
    "new_agg_df3 = add_avg(new_agg_df2)\n",
    "print(new_agg_df3)"
   ]
  },
  {
   "cell_type": "code",
   "execution_count": 19,
   "metadata": {},
   "outputs": [
    {
     "name": "stdout",
     "output_type": "stream",
     "text": [
      "           StockCode InvoiceDate  Quantity  Quantity_diff  Year  Month  Day  \\\n",
      "0              10002  2010-12-02         1          -59.0  2010     12    2   \n",
      "1              10002  2010-12-03         8            7.0  2010     12    3   \n",
      "2              10002  2010-12-05         1           -7.0  2010     12    5   \n",
      "3              10002  2010-12-06        25           24.0  2010     12    6   \n",
      "4              10002  2010-12-07         8          -17.0  2010     12    7   \n",
      "...              ...         ...       ...            ...   ...    ...  ...   \n",
      "272897  gift_0001_40  2011-04-04         1            0.0  2011      4    4   \n",
      "272898  gift_0001_40  2011-07-27         1            0.0  2011      7   27   \n",
      "272899  gift_0001_50  2011-05-06         1            0.0  2011      5    6   \n",
      "272900  gift_0001_50  2011-06-24         1            0.0  2011      6   24   \n",
      "272901  gift_0001_50  2011-06-30         1            0.0  2011      6   30   \n",
      "\n",
      "        Dayofweek  Year_normalized  Month_normalized  Day_normalized  \\\n",
      "0               3        -3.826105          1.382291       -1.532830   \n",
      "1               4        -3.826105          1.382291       -1.416681   \n",
      "2               6        -3.826105          1.382291       -1.184385   \n",
      "3               0        -3.826105          1.382291       -1.068236   \n",
      "4               1        -3.826105          1.382291       -0.952088   \n",
      "...           ...              ...               ...             ...   \n",
      "272897          0         0.261362         -0.899191       -1.300533   \n",
      "272898          2         0.261362         -0.043635        1.370880   \n",
      "272899          4         0.261362         -0.614006       -1.068236   \n",
      "272900          4         0.261362         -0.328821        1.022435   \n",
      "272901          3         0.261362         -0.328821        1.719326   \n",
      "\n",
      "        Quantity_normalized   DailyAvg  MonthlyAvg  Quantity_lag_1  \\\n",
      "0                 -0.289263  22.125000   14.692308             0.0   \n",
      "1                 -0.182103  27.400000   14.692308             1.0   \n",
      "2                 -0.289263   5.000000   14.692308             8.0   \n",
      "3                  0.078143  21.777778   14.692308             1.0   \n",
      "4                 -0.182103  10.000000   14.692308            25.0   \n",
      "...                     ...        ...         ...             ...   \n",
      "272897            -0.289263   1.000000    1.000000             0.0   \n",
      "272898            -0.289263   1.000000    1.000000             1.0   \n",
      "272899            -0.289263   1.000000    1.000000             0.0   \n",
      "272900            -0.289263   1.000000    1.000000             1.0   \n",
      "272901            -0.289263   1.000000    1.000000             1.0   \n",
      "\n",
      "        Quantity_lag_2  Quantity_lag_5  Quantity_lag_7  \n",
      "0                  0.0             0.0             0.0  \n",
      "1                  0.0             0.0             0.0  \n",
      "2                  1.0             0.0             0.0  \n",
      "3                  8.0             0.0             0.0  \n",
      "4                  1.0             0.0             0.0  \n",
      "...                ...             ...             ...  \n",
      "272897             0.0             0.0             0.0  \n",
      "272898             0.0             0.0             0.0  \n",
      "272899             0.0             0.0             0.0  \n",
      "272900             0.0             0.0             0.0  \n",
      "272901             1.0             0.0             0.0  \n",
      "\n",
      "[272902 rows x 18 columns]\n"
     ]
    }
   ],
   "source": [
    "# Create lagged features (e.g., lagged quantity for 1 and 7 days)\n",
    "def create_lagged_features(x):\n",
    "    df = x.copy()\n",
    "    # Function to add lag values\n",
    "    def add_lag_values( df):\n",
    "        df['Quantity_lag_1'] =  df['Quantity'].shift(1)\n",
    "        df['Quantity_lag_2'] =  df['Quantity'].shift(2)\n",
    "        df['Quantity_lag_5'] =  df['Quantity'].shift(5)\n",
    "        df['Quantity_lag_7'] =  df['Quantity'].shift(7)\n",
    "        return  df\n",
    "\n",
    "    # Sort the DataFrame by 'ProductCode' and 'Date'\n",
    "    df.sort_values(by=['StockCode', 'InvoiceDate'], inplace=True)\n",
    "    \n",
    "    # Apply differencing separately for each product code\n",
    "    df =  df.groupby('StockCode').apply(add_lag_values)\n",
    "    df.reset_index(inplace=True, drop=True)\n",
    "    df=  df.fillna(0)\n",
    "    return df\n",
    "\n",
    "new_agg_df4=create_lagged_features(new_agg_df3)\n",
    "print(new_agg_df4)"
   ]
  },
  {
   "cell_type": "code",
   "execution_count": 20,
   "metadata": {},
   "outputs": [
    {
     "name": "stdout",
     "output_type": "stream",
     "text": [
      "           StockCode InvoiceDate  Quantity  Quantity_diff  Year  Month  Day  \\\n",
      "0              10002  2010-12-02         1          -59.0  2010     12    2   \n",
      "1              10002  2010-12-03         8            7.0  2010     12    3   \n",
      "2              10002  2010-12-05         1           -7.0  2010     12    5   \n",
      "3              10002  2010-12-06        25           24.0  2010     12    6   \n",
      "4              10002  2010-12-07         8          -17.0  2010     12    7   \n",
      "...              ...         ...       ...            ...   ...    ...  ...   \n",
      "272897  gift_0001_40  2011-04-04         1            0.0  2011      4    4   \n",
      "272898  gift_0001_40  2011-07-27         1            0.0  2011      7   27   \n",
      "272899  gift_0001_50  2011-05-06         1            0.0  2011      5    6   \n",
      "272900  gift_0001_50  2011-06-24         1            0.0  2011      6   24   \n",
      "272901  gift_0001_50  2011-06-30         1            0.0  2011      6   30   \n",
      "\n",
      "        Dayofweek  Year_normalized  Month_normalized  ...  \\\n",
      "0               3        -3.826105          1.382291  ...   \n",
      "1               4        -3.826105          1.382291  ...   \n",
      "2               6        -3.826105          1.382291  ...   \n",
      "3               0        -3.826105          1.382291  ...   \n",
      "4               1        -3.826105          1.382291  ...   \n",
      "...           ...              ...               ...  ...   \n",
      "272897          0         0.261362         -0.899191  ...   \n",
      "272898          2         0.261362         -0.043635  ...   \n",
      "272899          4         0.261362         -0.614006  ...   \n",
      "272900          4         0.261362         -0.328821  ...   \n",
      "272901          3         0.261362         -0.328821  ...   \n",
      "\n",
      "        Quantity_normalized   DailyAvg  MonthlyAvg  Quantity_lag_1  \\\n",
      "0                 -0.289263  22.125000   14.692308             0.0   \n",
      "1                 -0.182103  27.400000   14.692308             1.0   \n",
      "2                 -0.289263   5.000000   14.692308             8.0   \n",
      "3                  0.078143  21.777778   14.692308             1.0   \n",
      "4                 -0.182103  10.000000   14.692308            25.0   \n",
      "...                     ...        ...         ...             ...   \n",
      "272897            -0.289263   1.000000    1.000000             0.0   \n",
      "272898            -0.289263   1.000000    1.000000             1.0   \n",
      "272899            -0.289263   1.000000    1.000000             0.0   \n",
      "272900            -0.289263   1.000000    1.000000             1.0   \n",
      "272901            -0.289263   1.000000    1.000000             1.0   \n",
      "\n",
      "        Quantity_lag_2  Quantity_lag_5  Quantity_lag_7  RollingMean3  \\\n",
      "0                  0.0             0.0             0.0      0.000000   \n",
      "1                  0.0             0.0             0.0      0.000000   \n",
      "2                  1.0             0.0             0.0      3.333333   \n",
      "3                  8.0             0.0             0.0     11.333333   \n",
      "4                  1.0             0.0             0.0     11.333333   \n",
      "...                ...             ...             ...           ...   \n",
      "272897             0.0             0.0             0.0      0.000000   \n",
      "272898             0.0             0.0             0.0      0.000000   \n",
      "272899             0.0             0.0             0.0      0.000000   \n",
      "272900             0.0             0.0             0.0      0.000000   \n",
      "272901             1.0             0.0             0.0      1.000000   \n",
      "\n",
      "        RollingMean5  RollingMean7  \n",
      "0                0.0           0.0  \n",
      "1                0.0           0.0  \n",
      "2                0.0           0.0  \n",
      "3                0.0           0.0  \n",
      "4                8.6           0.0  \n",
      "...              ...           ...  \n",
      "272897           0.0           0.0  \n",
      "272898           0.0           0.0  \n",
      "272899           0.0           0.0  \n",
      "272900           0.0           0.0  \n",
      "272901           0.0           0.0  \n",
      "\n",
      "[272902 rows x 21 columns]\n"
     ]
    }
   ],
   "source": [
    "# Create rolling features (e.g., for window size 3)\n",
    "def create_rolling_features(x):\n",
    "    df = x.copy()\n",
    "    # Function to add rolling features\n",
    "    def add_rolling_values( df):\n",
    "        # Calculate rolling mean, rolling standard deviation, and rolling sum\n",
    "        df['RollingMean3'] = df['Quantity'].rolling(window=3).mean()\n",
    "        df['RollingMean5'] = df['Quantity'].rolling(window=5).mean()\n",
    "        df['RollingMean7'] = df['Quantity'].rolling(window=7).mean()\n",
    "        # df['RollingStd'] = df['Quantity_diff'].rolling(window=7).std()\n",
    "        # df['RollingSum'] = df['Quantity_diff'].rolling(window=7).sum()\n",
    "        \n",
    "        return  df\n",
    "\n",
    "    # Sort the DataFrame by 'ProductCode' and 'Date'\n",
    "    df.sort_values(by=['StockCode', 'InvoiceDate'], inplace=True)\n",
    "    \n",
    "    # Apply differencing separately for each product code\n",
    "    df =  df.groupby('StockCode').apply(add_rolling_values)\n",
    "    df.reset_index(inplace=True, drop=True)\n",
    "    df=  df.fillna(0)\n",
    "    return df\n",
    "\n",
    "new_agg_df5=create_rolling_features(new_agg_df4)\n",
    "print(new_agg_df5)"
   ]
  },
  {
   "cell_type": "code",
   "execution_count": 21,
   "metadata": {},
   "outputs": [
    {
     "name": "stdout",
     "output_type": "stream",
     "text": [
      "           StockCode InvoiceDate  Quantity  Quantity_diff  Year  Day  \\\n",
      "0              10002  2010-12-02         1          -59.0  2010    2   \n",
      "1              10002  2010-12-03         8            7.0  2010    3   \n",
      "2              10002  2010-12-05         1           -7.0  2010    5   \n",
      "3              10002  2010-12-06        25           24.0  2010    6   \n",
      "4              10002  2010-12-07         8          -17.0  2010    7   \n",
      "...              ...         ...       ...            ...   ...  ...   \n",
      "272897  gift_0001_40  2011-04-04         1            0.0  2011    4   \n",
      "272898  gift_0001_40  2011-07-27         1            0.0  2011   27   \n",
      "272899  gift_0001_50  2011-05-06         1            0.0  2011    6   \n",
      "272900  gift_0001_50  2011-06-24         1            0.0  2011   24   \n",
      "272901  gift_0001_50  2011-06-30         1            0.0  2011   30   \n",
      "\n",
      "        Year_normalized  Month_normalized  Day_normalized  \\\n",
      "0             -3.826105          1.382291       -1.532830   \n",
      "1             -3.826105          1.382291       -1.416681   \n",
      "2             -3.826105          1.382291       -1.184385   \n",
      "3             -3.826105          1.382291       -1.068236   \n",
      "4             -3.826105          1.382291       -0.952088   \n",
      "...                 ...               ...             ...   \n",
      "272897         0.261362         -0.899191       -1.300533   \n",
      "272898         0.261362         -0.043635        1.370880   \n",
      "272899         0.261362         -0.614006       -1.068236   \n",
      "272900         0.261362         -0.328821        1.022435   \n",
      "272901         0.261362         -0.328821        1.719326   \n",
      "\n",
      "        Quantity_normalized  ...  Month_8  Month_9  Month_10  Month_11  \\\n",
      "0                 -0.289263  ...    False    False     False     False   \n",
      "1                 -0.182103  ...    False    False     False     False   \n",
      "2                 -0.289263  ...    False    False     False     False   \n",
      "3                  0.078143  ...    False    False     False     False   \n",
      "4                 -0.182103  ...    False    False     False     False   \n",
      "...                     ...  ...      ...      ...       ...       ...   \n",
      "272897            -0.289263  ...    False    False     False     False   \n",
      "272898            -0.289263  ...    False    False     False     False   \n",
      "272899            -0.289263  ...    False    False     False     False   \n",
      "272900            -0.289263  ...    False    False     False     False   \n",
      "272901            -0.289263  ...    False    False     False     False   \n",
      "\n",
      "        Month_12  Dayofweek_1  Dayofweek_2  Dayofweek_3  Dayofweek_4  \\\n",
      "0           True        False        False         True        False   \n",
      "1           True        False        False        False         True   \n",
      "2           True        False        False        False        False   \n",
      "3           True        False        False        False        False   \n",
      "4           True         True        False        False        False   \n",
      "...          ...          ...          ...          ...          ...   \n",
      "272897     False        False        False        False        False   \n",
      "272898     False        False         True        False        False   \n",
      "272899     False        False        False        False         True   \n",
      "272900     False        False        False        False         True   \n",
      "272901     False        False        False         True        False   \n",
      "\n",
      "        Dayofweek_6  \n",
      "0             False  \n",
      "1             False  \n",
      "2              True  \n",
      "3             False  \n",
      "4             False  \n",
      "...             ...  \n",
      "272897        False  \n",
      "272898        False  \n",
      "272899        False  \n",
      "272900        False  \n",
      "272901        False  \n",
      "\n",
      "[272902 rows x 3815 columns]\n"
     ]
    }
   ],
   "source": [
    "def one_hot_encoding(x):\n",
    "    encoder = LabelEncoder()\n",
    "    x['StockCodeEncoded'] = encoder.fit_transform(x['StockCode'])\n",
    "    x = pd.get_dummies(x, columns=[ 'StockCodeEncoded', 'Month', 'Dayofweek' ],  drop_first=True)\n",
    "    return x\n",
    "new_agg_df6 = one_hot_encoding(new_agg_df5)\n",
    "print(new_agg_df6)"
   ]
  },
  {
   "cell_type": "code",
   "execution_count": 22,
   "metadata": {},
   "outputs": [
    {
     "name": "stdout",
     "output_type": "stream",
     "text": [
      "  StockCode InvoiceDate  Quantity  Quantity_diff  Year  Day  Year_normalized  \\\n",
      "0     10002  2010-12-02         1          -59.0  2010    2        -3.826105   \n",
      "1     37370  2010-12-02       174          146.0  2010    2        -3.826105   \n",
      "2     22910  2010-12-02       135          -15.0  2010    2        -3.826105   \n",
      "3     22637  2010-12-02        12          -22.0  2010    2        -3.826105   \n",
      "4     22428  2010-12-02         5           -6.0  2010    2        -3.826105   \n",
      "\n",
      "   Month_normalized  Day_normalized  Quantity_normalized  ...  Month_8  \\\n",
      "0          1.382291        -1.53283            -0.289263  ...    False   \n",
      "1          1.382291        -1.53283             2.359123  ...    False   \n",
      "2          1.382291        -1.53283             1.762088  ...    False   \n",
      "3          1.382291        -1.53283            -0.120869  ...    False   \n",
      "4          1.382291        -1.53283            -0.228029  ...    False   \n",
      "\n",
      "   Month_9  Month_10  Month_11  Month_12  Dayofweek_1  Dayofweek_2  \\\n",
      "0    False     False     False      True        False        False   \n",
      "1    False     False     False      True        False        False   \n",
      "2    False     False     False      True        False        False   \n",
      "3    False     False     False      True        False        False   \n",
      "4    False     False     False      True        False        False   \n",
      "\n",
      "   Dayofweek_3  Dayofweek_4  Dayofweek_6  \n",
      "0         True        False        False  \n",
      "1         True        False        False  \n",
      "2         True        False        False  \n",
      "3         True        False        False  \n",
      "4         True        False        False  \n",
      "\n",
      "[5 rows x 3815 columns]\n",
      "----\n",
      "       StockCode InvoiceDate  Quantity  Quantity_diff  Year  Day  \\\n",
      "218321     20719  2011-10-23         4          -31.0  2011   23   \n",
      "218322     23290  2011-10-23         4            1.0  2011   23   \n",
      "218323     22704  2011-10-23        25            0.0  2011   23   \n",
      "218324     22562  2011-10-23         1            0.0  2011   23   \n",
      "218325     22701  2011-10-23         1           -1.0  2011   23   \n",
      "\n",
      "        Year_normalized  Month_normalized  Day_normalized  \\\n",
      "218321         0.261362           0.81192        0.906287   \n",
      "218322         0.261362           0.81192        0.906287   \n",
      "218323         0.261362           0.81192        0.906287   \n",
      "218324         0.261362           0.81192        0.906287   \n",
      "218325         0.261362           0.81192        0.906287   \n",
      "\n",
      "        Quantity_normalized  ...  Month_8  Month_9  Month_10  Month_11  \\\n",
      "218321            -0.243337  ...    False    False      True     False   \n",
      "218322            -0.243337  ...    False    False      True     False   \n",
      "218323             0.078143  ...    False    False      True     False   \n",
      "218324            -0.289263  ...    False    False      True     False   \n",
      "218325            -0.289263  ...    False    False      True     False   \n",
      "\n",
      "        Month_12  Dayofweek_1  Dayofweek_2  Dayofweek_3  Dayofweek_4  \\\n",
      "218321     False        False        False        False        False   \n",
      "218322     False        False        False        False        False   \n",
      "218323     False        False        False        False        False   \n",
      "218324     False        False        False        False        False   \n",
      "218325     False        False        False        False        False   \n",
      "\n",
      "        Dayofweek_6  \n",
      "218321         True  \n",
      "218322         True  \n",
      "218323         True  \n",
      "218324         True  \n",
      "218325         True  \n",
      "\n",
      "[5 rows x 3815 columns]\n",
      "-------\n",
      "218321 54581\n"
     ]
    }
   ],
   "source": [
    "def get_test_and_train(x):\n",
    "    # Sort the DataFrame by 'date' to ensure data is in the right order\n",
    "    df = x.copy(deep=True)\n",
    "    df.sort_values(by=['InvoiceDate'], inplace=True)\n",
    "    df.reset_index(drop=True, inplace=True)\n",
    "\n",
    "    # Do not keep invoice date as index for now\n",
    "    # df.set_index('InvoiceDate', inplace=True)\n",
    "\n",
    "    # Split the data into training and testing sets\n",
    "    train_size = int(len(df) * 0.8)\n",
    "    train, test = df[:train_size], df[train_size:]\n",
    "  \n",
    "    return train, test\n",
    "\n",
    "train, test = get_test_and_train(new_agg_df6)\n",
    "print(train.head())\n",
    "print('----')\n",
    "print(test.head())\n",
    "print('-------')\n",
    "print(len(train),len(test))\n",
    "\n",
    "\n",
    "# X = new_agg_df3[features]\n",
    "# y = new_agg_df3['Quantity_normalized']\n",
    "# # Split data into training and test sets\n",
    "# X_train, X_test, y_train, y_test = train_test_split(X, y, test_size=0.2, shuffle=False)"
   ]
  },
  {
   "cell_type": "code",
   "execution_count": null,
   "metadata": {},
   "outputs": [],
   "source": [
    "# Select features and target variable\n",
    "features = [each for each in new_agg_df6.columns if each not in ['InvoiceDate', 'StockCode', 'Quantity', 'Quantity_diff', 'Quantity_normalized', 'Quantity_diff_normalized', 'Year', 'Month', 'Day', 'Year_normalized', 'Month_normalized', 'Day_normalized']]\n",
    "target_varible = 'Quantity'\n",
    "\n",
    "X_train = train[features]\n",
    "y_train = train[target_varible]\n",
    "X_test = test[features]\n",
    "y_test = test[target_varible]\n",
    "X_train = np.asarray(X_train).astype('float32')\n",
    "X_test = np.asarray(X_test).astype('float32')\n",
    "\n",
    "model_mlp = Sequential()\n",
    "model_mlp.add(LSTM(units=50, activation='relu', input_shape=(X_train.shape[1], 1)))\n",
    "model_mlp.add(Dense(units=20, activation='relu'))\n",
    "model_mlp.add(Dense(units=1))\n",
    "\n",
    "# Compile the model\n",
    "optimizer = Adam(learning_rate=0.001)\n",
    "model_mlp.compile(loss='mse', optimizer=optimizer)\n",
    "model_mlp.summary()\n",
    "\n",
    "\n",
    "mlp_history = model_mlp.fit(X_train, y_train, epochs=20, verbose=2, batch_size=32)\n",
    "print(mlp_history)"
   ]
  },
  {
   "cell_type": "code",
   "execution_count": 24,
   "metadata": {},
   "outputs": [
    {
     "name": "stdout",
     "output_type": "stream",
     "text": [
      "1706/1706 [==============================] - 1s 555us/step\n",
      "[[ 4.5462537]\n",
      " [ 3.9677176]\n",
      " [24.957888 ]\n",
      " ...\n",
      " [ 1.5619739]\n",
      " [13.275236 ]\n",
      " [14.331805 ]]\n"
     ]
    }
   ],
   "source": [
    "\n",
    "# Make predictions\n",
    "y_pred = model_mlp.predict(X_test)\n",
    "print(y_pred)\n",
    "\n",
    "# # Convert predictions back to the original scale\n",
    "# y_pred_original = scaler_quantity.inverse_transform(y_pred.reshape(-1, 1))\n",
    "# print(y_pred_original)\n",
    "\n",
    "\n",
    "# # Convert predictions back to the original scale\n",
    "# test['PredictedDiff'] = y_pred_original\n",
    "# y2_pred_original = agg_df['Quantity'].iloc[0] + test['PredictedDiff'].cumsum()\n",
    "\n",
    "\n",
    "# print(y2_pred_original)\n"
   ]
  },
  {
   "cell_type": "code",
   "execution_count": 29,
   "metadata": {},
   "outputs": [
    {
     "data": {
      "text/plain": [
       "['refine-nn-extended.pkl']"
      ]
     },
     "execution_count": 29,
     "metadata": {},
     "output_type": "execute_result"
    }
   ],
   "source": [
    "# # Save Model\n",
    "# with open('refine-nn.pkl', 'wb') as f:\n",
    "#     pickle.dump(model_mlp, f)\n",
    "joblib.dump(model_mlp, 'refine-nn-extended.pkl', compress=3)"
   ]
  },
  {
   "cell_type": "code",
   "execution_count": 30,
   "metadata": {},
   "outputs": [
    {
     "name": "stdout",
     "output_type": "stream",
     "text": [
      "3781\n"
     ]
    }
   ],
   "source": [
    "# def get_product_name_mapper(x):\n",
    "#     unique_values = x[['StockCode', 'Description']].drop_duplicates().dropna() \n",
    "#     print(unique_values)\n",
    "\n",
    "#     print(len(unique_values['StockCode'].unique()))\n",
    "#     print(len(unique_values['Description'].unique()))\n",
    "\n",
    "#     # Use list orient\n",
    "#     dict = unique_values.set_index('StockCode').T.to_dict('list')\n",
    "\n",
    "#     parsed={}\n",
    "#     for each in dict:\n",
    "#         parsed[each] = dict[each][0]\n",
    "#     return parsed\n",
    "# mapper = get_product_name_mapper(data2)\n",
    "\n",
    "print(len(new_agg_df6['StockCode'].unique()))"
   ]
  },
  {
   "cell_type": "code",
   "execution_count": 26,
   "metadata": {},
   "outputs": [
    {
     "name": "stdout",
     "output_type": "stream",
     "text": [
      "Mean Absolute Error (MAE): 0.39777431653415674\n",
      "Mean Squared Error (MSE): 12.307862643991577\n",
      "Root Mean Squared Error (RMSE): 3.508256353801925\n"
     ]
    }
   ],
   "source": [
    "# # Convert predictions back to the original scale\n",
    "# y_pred = scaler_quantity.inverse_transform(y_pred.values.reshape(-1, 1))\n",
    "# print(y_pred)\n",
    "\n",
    "\n",
    "# Calculate MAE, MSE, RMSE\n",
    "mae = mean_absolute_error(y_test, y_pred)\n",
    "mse = mean_squared_error(y_test, y_pred)\n",
    "rmse = sqrt(mse)\n",
    "\n",
    "print(\"Mean Absolute Error (MAE):\", mae)\n",
    "print(\"Mean Squared Error (MSE):\", mse)\n",
    "print(\"Root Mean Squared Error (RMSE):\", rmse)\n",
    "\n",
    "# Output Result File\n",
    "test['Quantity Prediction'] = y_pred\n",
    "y = test[['InvoiceDate', 'StockCode',  'Quantity', 'Quantity Prediction']]\n",
    "\n",
    "# # Replace product codes with product names based on the mapping\n",
    "# y['Product Description'] = y['StockCode'].map(mapper)\n",
    "# # Handle missing product names (optional)\n",
    "# y['Product Description'].fillna('Unknown', inplace=True)\n",
    "\n",
    "y.to_csv(\"refine-nn-extended.csv\", index=False)\n"
   ]
  }
 ],
 "metadata": {
  "kernelspec": {
   "display_name": "venv",
   "language": "python",
   "name": "python3"
  },
  "language_info": {
   "codemirror_mode": {
    "name": "ipython",
    "version": 3
   },
   "file_extension": ".py",
   "mimetype": "text/x-python",
   "name": "python",
   "nbconvert_exporter": "python",
   "pygments_lexer": "ipython3",
   "version": "3.10.5"
  },
  "orig_nbformat": 4
 },
 "nbformat": 4,
 "nbformat_minor": 2
}
